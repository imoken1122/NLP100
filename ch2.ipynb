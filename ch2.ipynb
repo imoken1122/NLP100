{
 "cells": [
  {
   "cell_type": "markdown",
   "metadata": {},
   "source": [
    "## Chapter 2"
   ]
  },
  {
   "cell_type": "code",
   "execution_count": 41,
   "metadata": {},
   "outputs": [
    {
     "name": "stdout",
     "output_type": "stream",
     "text": [
      "0\n"
     ]
    }
   ],
   "source": [
    "# 10\n",
    "file = \"./input/hightemp.txt\"\n",
    "c = 0\n",
    "with open(file) as f:\n",
    "    for _ in f:\n",
    "        c += 1\n",
    "print(c)\n",
    "#!wc -l ./input/hightemp.txt"
   ]
  },
  {
   "cell_type": "code",
   "execution_count": 30,
   "metadata": {},
   "outputs": [
    {
     "name": "stdout",
     "output_type": "stream",
     "text": [
      "高知県 江川崎 41 2013-08-12\n",
      "\n",
      "埼玉県 熊谷 40.9 2007-08-16\n",
      "\n",
      "岐阜県 多治見 40.9 2007-08-16\n",
      "\n",
      "山形県 山形 40.8 1933-07-25\n",
      "\n",
      "山梨県 甲府 40.7 2013-08-10\n",
      "\n",
      "和歌山県 かつらぎ 40.6 1994-08-08\n",
      "\n",
      "静岡県 天竜 40.6 1994-08-04\n",
      "\n",
      "山梨県 勝沼 40.5 2013-08-10\n",
      "\n",
      "埼玉県 越谷 40.4 2007-08-16\n",
      "\n",
      "群馬県 館林 40.3 2007-08-16\n",
      "\n",
      "群馬県 上里見 40.3 1998-07-04\n",
      "\n",
      "愛知県 愛西 40.3 1994-08-05\n",
      "\n",
      "千葉県 牛久 40.2 2004-07-20\n",
      "\n",
      "静岡県 佐久間 40.2 2001-07-24\n",
      "\n",
      "愛媛県 宇和島 40.2 1927-07-22\n",
      "\n",
      "山形県 酒田 40.1 1978-08-03\n",
      "\n",
      "岐阜県 美濃 40 2007-08-16\n",
      "\n",
      "群馬県 前橋 40 2001-07-24\n",
      "\n",
      "千葉県 茂原 39.9 2013-08-11\n",
      "\n",
      "埼玉県 鳩山 39.9 1997-07-05\n",
      "\n",
      "大阪府 豊中 39.9 1994-08-08\n",
      "\n",
      "山梨県 大月 39.9 1990-07-19\n",
      "\n",
      "山形県 鶴岡 39.9 1978-08-03\n",
      "\n",
      "愛知県 名古屋 39.9 1942-08-02\n",
      "\n"
     ]
    }
   ],
   "source": [
    "# 11\n",
    "with open(file) as f:\n",
    "    for i in f:\n",
    "        print(i.replace(\"\\t\",\" \"))\n",
    "#!tr \"\\t\" \" \" < hightemp.txt"
   ]
  },
  {
   "cell_type": "code",
   "execution_count": 31,
   "metadata": {},
   "outputs": [],
   "source": [
    "# 12\n",
    "with open(file) as f, open(\"./output/col1.txt\",\"a\") as c1,open(\"./output/col2.txt\",\"a\") as c2:\n",
    "    for i in f:\n",
    "        txt = i.split(\"\\t\")\n",
    "        c1.write(txt[0]+\"\\n\")\n",
    "        c2.write(txt[1]+\"\\n\")\n",
    "#!cut -f 1 hightemp.txt > ../output/col1_c.txt\n",
    "#!cut -f 2 hightemp.txt > ../output/col2_c.txt"
   ]
  },
  {
   "cell_type": "code",
   "execution_count": 33,
   "metadata": {},
   "outputs": [],
   "source": [
    "# 13\n",
    "with open(\"./output/col1.txt\",\"r\") as c1,open(\"./output/col2.txt\",\"r\") as c2,\\\n",
    "    open(\"./output/col_marge.txt\",\"w\") as f:\n",
    "    for i,j in zip(c1,c2):\n",
    "        f.write(i.rsplit()[0] + \"\\t\" + j.rsplit()[0]+\"\\n\")    \n",
    "#!paste col1.txt col2.txt > col_marge1.txt "
   ]
  },
  {
   "cell_type": "code",
   "execution_count": 34,
   "metadata": {},
   "outputs": [
    {
     "name": "stdout",
     "output_type": "stream",
     "text": [
      "高知県\t江川崎\n",
      "\n",
      "埼玉県\t熊谷\n",
      "\n",
      "岐阜県\t多治見\n",
      "\n",
      "山形県\t山形\n",
      "\n",
      "山梨県\t甲府\n",
      "\n",
      "和歌山県\tかつらぎ\n",
      "\n",
      "静岡県\t天竜\n",
      "\n",
      "山梨県\t勝沼\n",
      "\n",
      "埼玉県\t越谷\n",
      "\n",
      "群馬県\t館林\n",
      "\n"
     ]
    }
   ],
   "source": [
    " #14\n",
    "N = 10\n",
    "for i,j in enumerate(open(\"./output/col_marge.txt\",\"r\")):\n",
    "    if(i==N):\n",
    "        break\n",
    "    print(j)\n",
    "#!head -n 3 col_marge.txt"
   ]
  },
  {
   "cell_type": "code",
   "execution_count": 35,
   "metadata": {},
   "outputs": [
    {
     "name": "stdout",
     "output_type": "stream",
     "text": [
      "愛知県\t名古屋\n",
      "\n",
      "山形県\t鶴岡\n",
      "\n",
      "山梨県\t大月\n",
      "\n",
      "大阪府\t豊中\n",
      "\n",
      "埼玉県\t鳩山\n",
      "\n",
      "千葉県\t茂原\n",
      "\n",
      "群馬県\t前橋\n",
      "\n",
      "岐阜県\t美濃\n",
      "\n",
      "山形県\t酒田\n",
      "\n",
      "愛媛県\t宇和島\n",
      "\n"
     ]
    }
   ],
   "source": [
    "# 15\n",
    "N = 10\n",
    "for i,j in enumerate(reversed(open(\"./output/col_marge.txt\",\"r\").readlines())):\n",
    "    if i == N:\n",
    "        break\n",
    "    print(j)\n",
    "#!tail -n 10 col_marge.txt"
   ]
  },
  {
   "cell_type": "code",
   "execution_count": 75,
   "metadata": {},
   "outputs": [],
   "source": [
    "#16\n",
    "file = \"./input/hightemp.txt\"\n",
    "N = 8\n",
    "idx = N\n",
    "with open(file,\"r\") as f:\n",
    "    line = f.readlines()\n",
    "    for i in range(int(len(line)/N)):\n",
    "        with open(f\"./output/split_file{i}.txt\",\"a\") as ff:\n",
    "            [ff.write(line[i*N:N*(i+1)][j]) for j in range(N)]\n",
    "         \n",
    "       "
   ]
  },
  {
   "cell_type": "code",
   "execution_count": 76,
   "metadata": {},
   "outputs": [
    {
     "name": "stdout",
     "output_type": "stream",
     "text": [
      "['高知県', '埼玉県', '岐阜県', '山形県', '山梨県', '和歌山県', '静岡県', '群馬県', '愛知県', '千葉県', '愛媛県', '大阪府']\n"
     ]
    }
   ],
   "source": [
    "#17\n",
    "l = []\n",
    "with open(file,\"r\") as f:\n",
    "    line = f.readlines()\n",
    "    for data in line:\n",
    "        str = data.split(\"\\t\")\n",
    "        if str[0] not in l:\n",
    "            l.append(str[0])\n",
    "print(l)"
   ]
  },
  {
   "cell_type": "code",
   "execution_count": 83,
   "metadata": {},
   "outputs": [
    {
     "name": "stdout",
     "output_type": "stream",
     "text": [
      "高知県\t江川崎\t41\t2013-08-12\n",
      " 埼玉県\t熊谷\t40.9\t2007-08-16\n",
      " 岐阜県\t多治見\t40.9\t2007-08-16\n",
      " 山形県\t山形\t40.8\t1933-07-25\n",
      " 山梨県\t甲府\t40.7\t2013-08-10\n",
      " 和歌山県\tかつらぎ\t40.6\t1994-08-08\n",
      " 静岡県\t天竜\t40.6\t1994-08-04\n",
      " 山梨県\t勝沼\t40.5\t2013-08-10\n",
      " 埼玉県\t越谷\t40.4\t2007-08-16\n",
      " 群馬県\t館林\t40.3\t2007-08-16\n",
      " 群馬県\t上里見\t40.3\t1998-07-04\n",
      " 愛知県\t愛西\t40.3\t1994-08-05\n",
      " 千葉県\t牛久\t40.2\t2004-07-20\n",
      " 静岡県\t佐久間\t40.2\t2001-07-24\n",
      " 愛媛県\t宇和島\t40.2\t1927-07-22\n",
      " 山形県\t酒田\t40.1\t1978-08-03\n",
      " 岐阜県\t美濃\t40\t2007-08-16\n",
      " 群馬県\t前橋\t40\t2001-07-24\n",
      " 千葉県\t茂原\t39.9\t2013-08-11\n",
      " 埼玉県\t鳩山\t39.9\t1997-07-05\n",
      " 大阪府\t豊中\t39.9\t1994-08-08\n",
      " 山梨県\t大月\t39.9\t1990-07-19\n",
      " 山形県\t鶴岡\t39.9\t1978-08-03\n",
      " 愛知県\t名古屋\t39.9\t1942-08-02\n",
      "\n"
     ]
    }
   ],
   "source": [
    "# 18\n",
    "file = \"./input/hightemp.txt\"\n",
    "lines = open(file).readlines()\n",
    "lines.sort(key=lambda line: float(line.split('\\t')[2]), reverse=True)\n",
    "\n",
    "print(\" \".join(lines))"
   ]
  },
  {
   "cell_type": "code",
   "execution_count": 106,
   "metadata": {},
   "outputs": [
    {
     "data": {
      "text/plain": [
       "[('埼玉県', 4),\n",
       " ('山形県', 4),\n",
       " ('山梨県', 4),\n",
       " ('群馬県', 4),\n",
       " ('岐阜県', 3),\n",
       " ('静岡県', 3),\n",
       " ('愛知県', 3),\n",
       " ('千葉県', 3),\n",
       " ('高知県', 2),\n",
       " ('和歌山県', 2),\n",
       " ('愛媛県', 2),\n",
       " ('大阪府', 2)]"
      ]
     },
     "execution_count": 106,
     "metadata": {},
     "output_type": "execute_result"
    }
   ],
   "source": [
    "#19\n",
    "dict = {}\n",
    "with open(file,\"r\") as f:\n",
    "    for i in f:\n",
    "        d = i.split(\"\\t\")[0]\n",
    "        if d not in dict.keys():\n",
    "            dict[d] = 1\n",
    "        dict[d]+=1\n",
    "sorted(dict.items(),key = lambda x:-x[1])"
   ]
  },
  {
   "cell_type": "code",
   "execution_count": null,
   "metadata": {},
   "outputs": [],
   "source": []
  }
 ],
 "metadata": {
  "kernelspec": {
   "display_name": "Python 3",
   "language": "python",
   "name": "python3"
  },
  "language_info": {
   "codemirror_mode": {
    "name": "ipython",
    "version": 3
   },
   "file_extension": ".py",
   "mimetype": "text/x-python",
   "name": "python",
   "nbconvert_exporter": "python",
   "pygments_lexer": "ipython3",
   "version": "3.6.7"
  }
 },
 "nbformat": 4,
 "nbformat_minor": 2
}
