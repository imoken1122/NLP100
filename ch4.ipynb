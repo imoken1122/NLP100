{
 "cells": [
  {
   "cell_type": "code",
   "execution_count": 2,
   "metadata": {},
   "outputs": [],
   "source": [
    "#30\n",
    "import MeCab as mc\n",
    "import numpy"
   ]
  },
  {
   "cell_type": "code",
   "execution_count": 49,
   "metadata": {},
   "outputs": [
    {
     "data": {
      "text/plain": [
       "[{'surface': '吾輩', 'base': '吾輩', 'pos': '名詞', 'pos1': '代名詞'},\n",
       " {'surface': 'は', 'base': 'は', 'pos': '助詞', 'pos1': '係助詞'},\n",
       " {'surface': '猫', 'base': '猫', 'pos': '名詞', 'pos1': '一般'}]"
      ]
     },
     "execution_count": 49,
     "metadata": {},
     "output_type": "execute_result"
    }
   ],
   "source": [
    "\n",
    "def parse():\n",
    "    with open(\"./input/neko.txt\",\"r\") as f,\\\n",
    "        open(\"./output/neko.txt.mecab\",\"a\") as out, \\\n",
    "        open(\"./output/small_neko.txt.mecab\",\"a\") as out_small:\n",
    "        for i,d in enumerate(f):\n",
    "            if len(d)>=2:\n",
    "                m = mc.Tagger()\n",
    "                out.write(m.parse(d))\n",
    "            if i<20:\n",
    "                out_small.write(m.parse(d))\n",
    "def morpheme_split():\n",
    "    with open(\"./output/small_neko.txt.mecab\",\"r\") as f:\n",
    "        mp_list = []\n",
    "        for d in f:\n",
    "            \n",
    "            dd = d.split(\"\\t\")\n",
    "            if len(dd)<2:\n",
    "                continue\n",
    "            tmp = dd[1].split(\",\")\n",
    "            \n",
    "            mp={\n",
    "                \"surface\":dd[0],\n",
    "                \"base\": tmp[6],\n",
    "                \"pos\" : tmp[0],\n",
    "                \"pos1\":tmp[1]\n",
    "            }\n",
    "            mp_list.append(mp)\n",
    "            \n",
    "    return mp_list\n",
    "#parse()\n",
    "morpheme_split()[2:5]"
   ]
  },
  {
   "cell_type": "code",
   "execution_count": 65,
   "metadata": {},
   "outputs": [
    {
     "name": "stdout",
     "output_type": "stream",
     "text": [
      "動詞: 生れ \t原型: 生れる\n",
      "動詞: つか \t原型: つく\n",
      "動詞: し \t原型: する\n",
      "動詞: 泣い \t原型: 泣く\n",
      "動詞: し \t原型: する\n",
      "動詞: いる \t原型: いる\n",
      "動詞: 始め \t原型: 始める\n",
      "動詞: 見 \t原型: 見る\n",
      "動詞: 聞く \t原型: 聞く\n",
      "動詞: 捕え \t原型: 捕える\n",
      "動詞: 煮 \t原型: 煮る\n",
      "動詞: 食う \t原型: 食う\n",
      "動詞: 思わ \t原型: 思う\n",
      "動詞: 載せ \t原型: 載せる\n",
      "動詞: られ \t原型: られる\n",
      "動詞: 持ち上げ \t原型: 持ち上げる\n",
      "動詞: られ \t原型: られる\n",
      "動詞: し \t原型: する\n",
      "動詞: あっ \t原型: ある\n",
      "動詞: 落ちつい \t原型: 落ちつく\n",
      "動詞: 見 \t原型: 見る\n",
      "動詞: 見 \t原型: 見る\n",
      "動詞: 思っ \t原型: 思う\n",
      "動詞: 残っ \t原型: 残る\n",
      "動詞: いる \t原型: いる\n",
      "動詞: さ \t原型: する\n",
      "動詞: れ \t原型: れる\n",
      "動詞: し \t原型: する\n",
      "動詞: 逢っ \t原型: 逢う\n",
      "動詞: 出会わ \t原型: 出会う\n",
      "動詞: し \t原型: する\n",
      "動詞: のみ \t原型: のむ\n",
      "動詞: なら \t原型: なる\n",
      "動詞: し \t原型: する\n",
      "動詞: いる \t原型: いる\n",
      "動詞: 吹く \t原型: 吹く\n",
      "動詞: せ \t原型: する\n",
      "動詞: 弱っ \t原型: 弱る\n",
      "動詞: 飲む \t原型: 飲む\n",
      "動詞: 知っ \t原型: 知る\n"
     ]
    }
   ],
   "source": [
    "#31,32\n",
    "def morpheme_split():\n",
    "    with open(\"./output/small_neko.txt.mecab\",\"r\") as f:\n",
    "        mp_list = []\n",
    "        for d in f:\n",
    "            \n",
    "            dd = d.split(\"\\t\")\n",
    "            if len(dd)<2:\n",
    "                continue\n",
    "            tmp = dd[1].split(\",\")\n",
    "            \n",
    "            mp={\n",
    "                \"surface\":dd[0],\n",
    "                \"base\": tmp[6],\n",
    "                \"pos\" : tmp[0],\n",
    "                \"pos1\":tmp[1]\n",
    "            }\n",
    "            mp_list.append(mp)\n",
    "            \n",
    "    return mp_list\n",
    "dict_list = morpheme_split()\n",
    "for d in dict_list:\n",
    "    if d[\"pos\"] == \"動詞\":\n",
    "        print(\"動詞:\",d[\"surface\"], \"\\t原型:\",d[\"base\"])"
   ]
  },
  {
   "cell_type": "code",
   "execution_count": 72,
   "metadata": {},
   "outputs": [
    {
     "name": "stdout",
     "output_type": "stream",
     "text": [
      "見当\n",
      "記憶\n",
      "話\n",
      "装飾\n",
      "突起\n"
     ]
    }
   ],
   "source": [
    "#33\n",
    "def morpheme_split():\n",
    "    with open(\"./output/small_neko.txt.mecab\",\"r\") as f:\n",
    "        mp_list = []\n",
    "        for d in f:\n",
    "            \n",
    "            dd = d.split(\"\\t\")\n",
    "            if len(dd)<2:\n",
    "                continue\n",
    "            tmp = dd[1].split(\",\")\n",
    "            \n",
    "            mp={\n",
    "                \"surface\":dd[0],\n",
    "                \"base\": tmp[6],\n",
    "                \"pos\" : tmp[0],\n",
    "                \"pos1\":tmp[1]\n",
    "            }\n",
    "            mp_list.append(mp)\n",
    "            \n",
    "    return mp_list\n",
    "dict_list = morpheme_split()\n",
    "for d in dict_list:\n",
    "    if d[\"pos1\"] == \"サ変接続\":\n",
    "        print(d[\"surface\"])"
   ]
  },
  {
   "cell_type": "code",
   "execution_count": 81,
   "metadata": {},
   "outputs": [
    {
     "name": "stdout",
     "output_type": "stream",
     "text": [
      "というのは\n",
      "彼の掌\n",
      "掌の上\n",
      "書生の顔\n",
      "たのが\n",
      "ものの見\n",
      "はずの顔\n",
      "顔の真中\n",
      "穴の中\n",
      "人間の飲む\n"
     ]
    }
   ],
   "source": [
    "#34\n",
    "\n",
    "def morpheme_split():\n",
    "    with open(\"./output/small_neko.txt.mecab\",\"r\") as f:\n",
    "        mp_list = []\n",
    "        for d in f:\n",
    "            \n",
    "            dd = d.split(\"\\t\")\n",
    "            if len(dd)<2:\n",
    "                continue\n",
    "            tmp = dd[1].split(\",\")\n",
    "            \n",
    "            mp={\n",
    "                \"surface\":dd[0],\n",
    "                \"base\": tmp[6],\n",
    "                \"pos\" : tmp[0],\n",
    "                \"pos1\":tmp[1]\n",
    "            }\n",
    "            mp_list.append(mp)\n",
    "            \n",
    "    return mp_list\n",
    "dict_list = morpheme_split()\n",
    "for i in range(1,len(dict_list)):\n",
    "    if dict_list[i][\"surface\"] == \"の\":\n",
    "        print(dict_list[i-1][\"surface\"]+\"の\"+dict_list[i+1][\"surface\"])"
   ]
  },
  {
   "cell_type": "code",
   "execution_count": 14,
   "metadata": {},
   "outputs": [
    {
     "name": "stdout",
     "output_type": "stream",
     "text": [
      "['一', '吾輩', '猫', '名前', 'どこ', '見当', '何', '所', 'ニャーニャー', 'いた事', '記憶', '吾輩', 'ここ', '人間', 'もの', 'あと', 'それ', '書生', '人間中', '一番獰悪', '種族', 'そう', '書生', 'の', '我々', '話', '当時', '何', '考', '彼', '掌', 'スー', '時', '感じ', '掌', '上', '書生', '顔', 'の', '人間', 'もの', '始', '時妙', 'もの', '感じ', '今', '一毛', '装飾', 'はず', '顔', '薬缶', 'その後猫', '輪', '一度', '事', '顔', '真中', '突起', '穴', '中', 'ぷうぷうと煙', '咽', 'これ', '人間', '煙草', 'もの', '事', '頃']\n"
     ]
    }
   ],
   "source": [
    "#35\n",
    "\n",
    "def morpheme_split():\n",
    "    with open(\"./output/small_neko.txt.mecab\",\"r\") as f:\n",
    "        mp_list = []\n",
    "        for d in f:\n",
    "            \n",
    "            dd = d.split(\"\\t\")\n",
    "            if len(dd)<2:\n",
    "                continue\n",
    "            tmp = dd[1].split(\",\")\n",
    "            \n",
    "            mp={\n",
    "                \"surface\":dd[0],\n",
    "                \"base\": tmp[6],\n",
    "                \"pos\" : tmp[0],\n",
    "                \"pos1\":tmp[1]\n",
    "            }\n",
    "            mp_list.append(mp)\n",
    "            \n",
    "    return mp_list\n",
    "dict_list = morpheme_split()\n",
    "meisi = []\n",
    "m = \"\"\n",
    "flag = 0\n",
    "for d in dict_list:\n",
    "    flag = 0\n",
    "    if d[\"pos\"] == \"名詞\":\n",
    "        m+= d[\"surface\"]\n",
    "        flag = 1\n",
    "    if flag == 0 and len(m)!=0:\n",
    "        meisi.append(m)\n",
    "        m = \"\"\n",
    "print(meisi)"
   ]
  },
  {
   "cell_type": "code",
   "execution_count": 47,
   "metadata": {},
   "outputs": [
    {
     "name": "stdout",
     "output_type": "stream",
     "text": [
      "[('。', 18), ('た', 16), ('で', 13), ('て', 12), ('の', 11), ('は', 10), ('が', 10), ('という', 8), ('し', 7), ('ある', 5), ('人間', 5), ('もの', 5), ('を', 5), ('一', 4), ('いる', 4), ('見', 4), ('と', 4), ('書生', 4), ('だ', 4), ('この', 4), ('も', 4), ('に', 4), ('顔', 4), ('\\u3000', 3), ('吾輩', 3), ('猫', 3), ('何', 3), ('でも', 3), ('中', 3), ('な', 3), ('あっ', 3), ('時々', 3), ('その', 3), ('なかっ', 3), ('から', 3), ('掌', 3), ('られ', 3), ('時', 3), ('感じ', 3), ('事', 3), ('名前', 2), ('まだ', 2), ('無い', 2), ('どこ', 2), ('生れ', 2), ('か', 2), ('とんと', 2), ('見当', 2), ('つか', 2), ('ぬ', 2), ('薄暗い', 2), ('じめじめ', 2), ('所', 2), ('ニャーニャー', 2), ('泣い', 2), ('いた事', 2), ('だけ', 2), ('記憶', 2), ('ここ', 2), ('始め', 2), ('しかも', 2), ('あと', 2), ('聞く', 2), ('それ', 2), ('一番', 2), ('獰悪', 2), ('種族', 2), ('そう', 2), ('我々', 2), ('捕え', 2), ('煮', 2), ('食う', 2), ('話', 2), ('しかし', 2), ('当時', 2), ('考', 2), ('別段', 2), ('恐し', 2), ('いとも', 2), ('思わ', 2), ('ただ', 2), ('彼', 2), ('載せ', 2), ('スー', 2), ('持ち上げ', 2), ('何だか', 2), ('フワフワ', 2), ('ばかり', 2), ('上', 2), ('少し', 2), ('落ちつい', 2), ('いわゆる', 2), ('始', 2), ('あろ', 2), ('う', 2), ('妙', 2), ('思っ', 2), ('今', 2), ('残っ', 2), ('第', 2), ('毛', 2), ('をもって', 2), ('装飾', 2), ('さ', 2), ('れ', 2), ('べき', 2), ('はず', 2), ('つるつる', 2), ('まるで', 2), ('薬缶', 2), ('その後', 2), ('だいぶ', 2), ('逢っ', 2), ('こんな', 2), ('片', 2), ('輪', 2), ('度', 2), ('出会わ', 2), ('ない', 2), ('のみ', 2), ('なら', 2), ('ず', 2), ('真中', 2), ('あまりに', 2), ('突起', 2), ('そうして', 2), ('穴', 2), ('ぷうぷうと', 2), ('煙', 2), ('吹く', 2), ('どうも', 2), ('咽', 2), ('せ', 2), ('ぽく', 2), ('実に', 2), ('弱っ', 2), ('これ', 2), ('飲む', 2), ('煙草', 2), ('ようやく', 2), ('頃', 2), ('知っ', 2)]\n"
     ]
    }
   ],
   "source": [
    "#36\n",
    "\n",
    "def morpheme_split():\n",
    "    with open(\"./output/small_neko.txt.mecab\",\"r\") as f:\n",
    "        mp_list = []\n",
    "        for d in f:\n",
    "            \n",
    "            dd = d.split(\"\\t\")\n",
    "            if len(dd)<2:\n",
    "                continue\n",
    "            tmp = dd[1].split(\",\")\n",
    "            \n",
    "            mp={\n",
    "                \"surface\":dd[0],\n",
    "                \"base\": tmp[6],\n",
    "                \"pos\" : tmp[0],\n",
    "                \"pos1\":tmp[1]\n",
    "            }\n",
    "            mp_list.append(mp)\n",
    "            \n",
    "    return mp_list\n",
    "dict_list = morpheme_split()\n",
    "freq_word = {}\n",
    "for d in dict_list:\n",
    "    if d[\"surface\"] not in freq_word:\n",
    "        freq_word[d[\"surface\"]] = 1\n",
    "    freq_word[d[\"surface\"]] += 1\n",
    "print(sorted(freq_word.items(), key=lambda x: -x[1]))"
   ]
  },
  {
   "cell_type": "code",
   "execution_count": 8,
   "metadata": {},
   "outputs": [
    {
     "name": "stderr",
     "output_type": "stream",
     "text": [
      "/usr/local/lib/python3.7/site-packages/matplotlib/font_manager.py:1331: UserWarning: findfont: Font family ['IPAexGothic'] not found. Falling back to DejaVu Sans\n",
      "  (prop.get_family(), self.defaultFamily[fontext]))\n"
     ]
    },
    {
     "data": {
      "image/png": "[encoded data removed]",
      "text/plain": [
       "<Figure size 432x288 with 1 Axes>"
      ]
     },
     "metadata": {
      "needs_background": "light"
     },
     "output_type": "display_data"
    },
    {
     "name": "stdout",
     "output_type": "stream",
     "text": [
      "[('。', 18), ('た', 16), ('で', 13), ('て', 12), ('の', 11), ('は', 10), ('が', 10), ('という', 8), ('し', 7), ('ある', 5)]\n"
     ]
    }
   ],
   "source": [
    "#37\n",
    "from matplotlib.font_manager import FontProperties\n",
    "import matplotlib.pyplot as plt\n",
    "\n",
    "\n",
    "def morpheme_split():\n",
    "    with open(\"./output/small_neko.txt.mecab\",\"r\") as f:\n",
    "        mp_list = []\n",
    "        for d in f:\n",
    "            \n",
    "            dd = d.split(\"\\t\")\n",
    "            if len(dd)<2:\n",
    "                continue\n",
    "            tmp = dd[1].split(\",\")\n",
    "            \n",
    "            mp={\n",
    "                \"surface\":dd[0],\n",
    "                \"base\": tmp[6],\n",
    "                \"pos\" : tmp[0],\n",
    "                \"pos1\":tmp[1]\n",
    "            }\n",
    "            mp_list.append(mp)\n",
    "            \n",
    "    return mp_list\n",
    "\n",
    "\n",
    "dict_list = morpheme_split()\n",
    "freq_word = {}\n",
    "for d in dict_list:\n",
    "    if d[\"surface\"] not in freq_word:\n",
    "        freq_word[d[\"surface\"]] = 1\n",
    "    freq_word[d[\"surface\"]] += 1\n",
    "    \n",
    "freq_word_sort = sorted(freq_word.items(), key=lambda x: -x[1])[:10]\n",
    "\n",
    "num = []\n",
    "#plt.rcParams[\"font.family\"] = \"IPAexGothic\"\n",
    "for w,v in freq_word_sort:\n",
    "    plt.bar(w,v)\n",
    "    \n",
    "plt.xlabel('出現頻度が高い10語')\n",
    "plt.ylabel('出現頻度')\n",
    "\n",
    "plt.show()\n",
    "print(freq_word_sort)"
   ]
  },
  {
   "cell_type": "code",
   "execution_count": 11,
   "metadata": {},
   "outputs": [
    {
     "name": "stderr",
     "output_type": "stream",
     "text": [
      "/usr/local/lib/python3.7/site-packages/matplotlib/font_manager.py:1331: UserWarning: findfont: Font family ['IPAexGothic'] not found. Falling back to DejaVu Sans\n",
      "  (prop.get_family(), self.defaultFamily[fontext]))\n"
     ]
    },
    {
     "data": {
      "image/png": "[encoded data removed]",
      "text/plain": [
       "<Figure size 432x288 with 1 Axes>"
      ]
     },
     "metadata": {
      "needs_background": "light"
     },
     "output_type": "display_data"
    }
   ],
   "source": [
    "#38\n",
    "import matplotlib.pyplot as plt\n",
    "\n",
    "\n",
    "def morpheme_split():\n",
    "    with open(\"./output/neko.txt.mecab\",\"r\") as f:\n",
    "        mp_list = []\n",
    "        for d in f:\n",
    "            \n",
    "            dd = d.split(\"\\t\")\n",
    "            if len(dd)<2:\n",
    "                continue\n",
    "            tmp = dd[1].split(\",\")\n",
    "            \n",
    "            mp={\n",
    "                \"surface\":dd[0],\n",
    "                \"base\": tmp[6],\n",
    "                \"pos\" : tmp[0],\n",
    "                \"pos1\":tmp[1]\n",
    "            }\n",
    "            mp_list.append(mp)\n",
    "            \n",
    "    return mp_list\n",
    "\n",
    "\n",
    "dict_list = morpheme_split()\n",
    "freq_word = {}\n",
    "for d in dict_list:\n",
    "    if d[\"surface\"] not in freq_word:\n",
    "        freq_word[d[\"surface\"]] = 1\n",
    "    freq_word[d[\"surface\"]] += 1\n",
    "    \n",
    "\n",
    "#plt.rcParams[\"font.family\"] = \"IPAexGothic\"\n",
    "\n",
    "plt.hist(freq_word.values(),bins = 20,range = (0,30))\n",
    "\n",
    "plt.xlabel('出現頻度')\n",
    "plt.ylabel('単語の種類')\n",
    "\n",
    "plt.show()"
   ]
  },
  {
   "cell_type": "code",
   "execution_count": 31,
   "metadata": {},
   "outputs": [
    {
     "name": "stderr",
     "output_type": "stream",
     "text": [
      "/usr/local/lib/python3.7/site-packages/matplotlib/font_manager.py:1331: UserWarning: findfont: Font family ['IPAexGothic'] not found. Falling back to DejaVu Sans\n",
      "  (prop.get_family(), self.defaultFamily[fontext]))\n"
     ]
    },
    {
     "data": {
      "image/png": "[encoded data removed]",
      "text/plain": [
       "<Figure size 432x288 with 1 Axes>"
      ]
     },
     "metadata": {
      "needs_background": "light"
     },
     "output_type": "display_data"
    }
   ],
   "source": [
    "#39\n",
    "import matplotlib.pyplot as plt\n",
    "\n",
    "\n",
    "def morpheme_split():\n",
    "    with open(\"./output/neko.txt.mecab\",\"r\") as f:\n",
    "        mp_list = []\n",
    "        for d in f:\n",
    "            \n",
    "            dd = d.split(\"\\t\")\n",
    "            if len(dd)<2:\n",
    "                continue\n",
    "            tmp = dd[1].split(\",\")\n",
    "            \n",
    "            mp={\n",
    "                \"surface\":dd[0],\n",
    "                \"base\": tmp[6],\n",
    "                \"pos\" : tmp[0],\n",
    "                \"pos1\":tmp[1]\n",
    "            }\n",
    "            mp_list.append(mp)\n",
    "            \n",
    "    return mp_list\n",
    "\n",
    "\n",
    "dict_list = morpheme_split()\n",
    "freq_word = {}\n",
    "for d in dict_list:\n",
    "    if d[\"surface\"] not in freq_word:\n",
    "        freq_word[d[\"surface\"]] = 1\n",
    "    freq_word[d[\"surface\"]] += 1\n",
    "    \n",
    "freq_word_sort = dict(sorted(freq_word.items(), key=lambda x: -x[1]))\n",
    "#plt.rcParams[\"font.family\"] = \"IPAexGothic\"\n",
    "\n",
    "plt.scatter(range(len(freq_word)),freq_word_sort.values())\n",
    "plt.xlim([1,len(freq_word)])\n",
    "plt.xscale(\"log\")\n",
    "plt.yscale(\"log\")\n",
    "plt.xlabel('出現頻度順位')\n",
    "plt.ylabel('出現頻度')\n",
    "\n",
    "plt.show()"
   ]
  }
 ],
 "metadata": {
  "kernelspec": {
   "display_name": "Python 3",
   "language": "python",
   "name": "python3"
  },
  "language_info": {
   "codemirror_mode": {
    "name": "ipython",
    "version": 3
   },
   "file_extension": ".py",
   "mimetype": "text/x-python",
   "name": "python",
   "nbconvert_exporter": "python",
   "pygments_lexer": "ipython3",
   "version": "3.7.0"
  }
 },
 "nbformat": 4,
 "nbformat_minor": 2
}
