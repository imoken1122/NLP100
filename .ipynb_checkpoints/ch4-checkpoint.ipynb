{
 "cells": [
  {
   "cell_type": "code",
   "execution_count": 15,
   "metadata": {},
   "outputs": [],
   "source": [
    "#30\n",
    "import MeCab as mc\n",
    "import numpy"
   ]
  },
  {
   "cell_type": "code",
   "execution_count": 59,
   "metadata": {},
   "outputs": [
    {
     "data": {
      "text/plain": [
       "{'surface': '吾輩', 'base': '吾輩', 'pos': '名詞', 'pos1': '代名詞'}"
      ]
     },
     "execution_count": 59,
     "metadata": {},
     "output_type": "execute_result"
    }
   ],
   "source": [
    "\n",
    "def parse():\n",
    "    with open(\"./input/neko.txt\",\"r\") as f,\\\n",
    "        open(\"./output/neko.txt.mecab\",\"a\") as out, \\\n",
    "        #以下から小さいファイルで実行\n",
    "        open(\"./output/small_neko.txt.mecab\",\"a\") as out_small:\n",
    "        for i,d in enumerate(f):\n",
    "            if len(d)>=2:\n",
    "                m = mc.Tagger()\n",
    "                out.write(m.parse(d))\n",
    "            if i<20:\n",
    "                out_small.write(m.parse(d))\n",
    "def morpheme_split():\n",
    "    with open(\"./output/small_neko.txt.mecab\",\"r\") as f:\n",
    "        mp_list = []\n",
    "        for d in f:\n",
    "            \n",
    "            dd = d.split(\"\\t\")\n",
    "            if len(dd)<2:\n",
    "                continue\n",
    "            tmp = dd[1].split(\",\")\n",
    "            \n",
    "            mp={\n",
    "                \"surface\":dd[0],\n",
    "                \"base\": tmp[6],\n",
    "                \"pos\" : tmp[0],\n",
    "                \"pos1\":tmp[1]\n",
    "            }\n",
    "            mp_list.append(mp)\n",
    "            \n",
    "    return mp_list\n",
    "#parse()\n",
    "morpheme_split()[2]"
   ]
  },
  {
   "cell_type": "code",
   "execution_count": 65,
   "metadata": {},
   "outputs": [
    {
     "name": "stdout",
     "output_type": "stream",
     "text": [
      "動詞: 生れ \t原型: 生れる\n",
      "動詞: つか \t原型: つく\n",
      "動詞: し \t原型: する\n",
      "動詞: 泣い \t原型: 泣く\n",
      "動詞: し \t原型: する\n",
      "動詞: いる \t原型: いる\n",
      "動詞: 始め \t原型: 始める\n",
      "動詞: 見 \t原型: 見る\n",
      "動詞: 聞く \t原型: 聞く\n",
      "動詞: 捕え \t原型: 捕える\n",
      "動詞: 煮 \t原型: 煮る\n",
      "動詞: 食う \t原型: 食う\n",
      "動詞: 思わ \t原型: 思う\n",
      "動詞: 載せ \t原型: 載せる\n",
      "動詞: られ \t原型: られる\n",
      "動詞: 持ち上げ \t原型: 持ち上げる\n",
      "動詞: られ \t原型: られる\n",
      "動詞: し \t原型: する\n",
      "動詞: あっ \t原型: ある\n",
      "動詞: 落ちつい \t原型: 落ちつく\n",
      "動詞: 見 \t原型: 見る\n",
      "動詞: 見 \t原型: 見る\n",
      "動詞: 思っ \t原型: 思う\n",
      "動詞: 残っ \t原型: 残る\n",
      "動詞: いる \t原型: いる\n",
      "動詞: さ \t原型: する\n",
      "動詞: れ \t原型: れる\n",
      "動詞: し \t原型: する\n",
      "動詞: 逢っ \t原型: 逢う\n",
      "動詞: 出会わ \t原型: 出会う\n",
      "動詞: し \t原型: する\n",
      "動詞: のみ \t原型: のむ\n",
      "動詞: なら \t原型: なる\n",
      "動詞: し \t原型: する\n",
      "動詞: いる \t原型: いる\n",
      "動詞: 吹く \t原型: 吹く\n",
      "動詞: せ \t原型: する\n",
      "動詞: 弱っ \t原型: 弱る\n",
      "動詞: 飲む \t原型: 飲む\n",
      "動詞: 知っ \t原型: 知る\n"
     ]
    }
   ],
   "source": [
    "#31,32\n",
    "def morpheme_split():\n",
    "    with open(\"./output/small_neko.txt.mecab\",\"r\") as f:\n",
    "        mp_list = []\n",
    "        for d in f:\n",
    "            \n",
    "            dd = d.split(\"\\t\")\n",
    "            if len(dd)<2:\n",
    "                continue\n",
    "            tmp = dd[1].split(\",\")\n",
    "            \n",
    "            mp={\n",
    "                \"surface\":dd[0],\n",
    "                \"base\": tmp[6],\n",
    "                \"pos\" : tmp[0],\n",
    "                \"pos1\":tmp[1]\n",
    "            }\n",
    "            mp_list.append(mp)\n",
    "            \n",
    "    return mp_list\n",
    "dict_list = morpheme_split()\n",
    "for d in dict_list:\n",
    "    if d[\"pos\"] == \"動詞\":\n",
    "        print(\"動詞:\",d[\"surface\"], \"\\t原型:\",d[\"base\"])"
   ]
  },
  {
   "cell_type": "code",
   "execution_count": 72,
   "metadata": {},
   "outputs": [
    {
     "name": "stdout",
     "output_type": "stream",
     "text": [
      "見当\n",
      "記憶\n",
      "話\n",
      "装飾\n",
      "突起\n"
     ]
    }
   ],
   "source": [
    "#33\n",
    "def morpheme_split():\n",
    "    with open(\"./output/small_neko.txt.mecab\",\"r\") as f:\n",
    "        mp_list = []\n",
    "        for d in f:\n",
    "            \n",
    "            dd = d.split(\"\\t\")\n",
    "            if len(dd)<2:\n",
    "                continue\n",
    "            tmp = dd[1].split(\",\")\n",
    "            \n",
    "            mp={\n",
    "                \"surface\":dd[0],\n",
    "                \"base\": tmp[6],\n",
    "                \"pos\" : tmp[0],\n",
    "                \"pos1\":tmp[1]\n",
    "            }\n",
    "            mp_list.append(mp)\n",
    "            \n",
    "    return mp_list\n",
    "dict_list = morpheme_split()\n",
    "for d in dict_list:\n",
    "    if d[\"pos1\"] == \"サ変接続\":\n",
    "        print(d[\"surface\"])"
   ]
  },
  {
   "cell_type": "code",
   "execution_count": 81,
   "metadata": {},
   "outputs": [
    {
     "name": "stdout",
     "output_type": "stream",
     "text": [
      "というのは\n",
      "彼の掌\n",
      "掌の上\n",
      "書生の顔\n",
      "たのが\n",
      "ものの見\n",
      "はずの顔\n",
      "顔の真中\n",
      "穴の中\n",
      "人間の飲む\n"
     ]
    }
   ],
   "source": [
    "#34\n",
    "\n",
    "def morpheme_split():\n",
    "    with open(\"./output/small_neko.txt.mecab\",\"r\") as f:\n",
    "        mp_list = []\n",
    "        for d in f:\n",
    "            \n",
    "            dd = d.split(\"\\t\")\n",
    "            if len(dd)<2:\n",
    "                continue\n",
    "            tmp = dd[1].split(\",\")\n",
    "            \n",
    "            mp={\n",
    "                \"surface\":dd[0],\n",
    "                \"base\": tmp[6],\n",
    "                \"pos\" : tmp[0],\n",
    "                \"pos1\":tmp[1]\n",
    "            }\n",
    "            mp_list.append(mp)\n",
    "            \n",
    "    return mp_list\n",
    "dict_list = morpheme_split()\n",
    "for i in range(1,len(dict_list)):\n",
    "    if dict_list[i][\"surface\"] == \"の\":\n",
    "        print(dict_list[i-1][\"surface\"]+\"の\"+dict_list[i+1][\"surface\"])"
   ]
  },
  {
   "cell_type": "code",
   "execution_count": 93,
   "metadata": {},
   "outputs": [],
   "source": [
    "#35\n",
    "\n",
    "def morpheme_split():\n",
    "    with open(\"./output/small_neko.txt.mecab\",\"r\") as f:\n",
    "        mp_list = []\n",
    "        for d in f:\n",
    "            \n",
    "            dd = d.split(\"\\t\")\n",
    "            if len(dd)<2:\n",
    "                continue\n",
    "            tmp = dd[1].split(\",\")\n",
    "            \n",
    "            mp={\n",
    "                \"surface\":dd[0],\n",
    "                \"base\": tmp[6],\n",
    "                \"pos\" : tmp[0],\n",
    "                \"pos1\":tmp[1]\n",
    "            }\n",
    "            mp_list.append(mp)\n",
    "            \n",
    "    return mp_list\n",
    "dict_list = morpheme_split()\n",
    "meisi = \"\"\n",
    "n_len = 0\n",
    "flag = 0\n",
    "for d in dict_list:\n",
    "    flag = 0\n",
    "    if d[\"pos\"] == \"名詞\":\n",
    "        meisi += d[\"base\"]\n",
    "        flag = 1\n",
    "    if flag == 0 and n_len < len(meisi):\n",
    "        flag = 0\n",
    "        max_meisi = meisi\n",
    "        n_len = len(meisi)\n",
    "        meisi = \"\""
   ]
  },
  {
   "cell_type": "code",
   "execution_count": 94,
   "metadata": {},
   "outputs": [
    {
     "data": {
      "text/plain": [
       "'事顔真中突起穴中*\\n煙咽これ人間煙草'"
      ]
     },
     "execution_count": 94,
     "metadata": {},
     "output_type": "execute_result"
    }
   ],
   "source": [
    "max_meisi"
   ]
  },
  {
   "cell_type": "code",
   "execution_count": null,
   "metadata": {},
   "outputs": [],
   "source": []
  }
 ],
 "metadata": {
  "kernelspec": {
   "display_name": "Python 3",
   "language": "python",
   "name": "python3"
  },
  "language_info": {
   "codemirror_mode": {
    "name": "ipython",
    "version": 3
   },
   "file_extension": ".py",
   "mimetype": "text/x-python",
   "name": "python",
   "nbconvert_exporter": "python",
   "pygments_lexer": "ipython3",
   "version": "3.7.0"
  }
 },
 "nbformat": 4,
 "nbformat_minor": 2
}
